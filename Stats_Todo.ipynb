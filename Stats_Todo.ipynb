{
 "cells": [
  {
   "cell_type": "markdown",
   "metadata": {},
   "source": [
    "# Guided Project: Mobile App for Lottery Addiction\n",
    "In this project, we are going to contribute to the development of a mobile app by writing a couple of functions that are mostly focused on calculating probabilities. The app is aimed to both prevent and treat lottery addiction by helping people better estimate their chances of winning.\n",
    "\n",
    "The app idea comes from a medical institute which is specialized in treating gambling addictions. The institute already has a team of engineers that will build the app, but they need us to create the logical core of the app and calculate probabilities. For the first version of the app, they want us to focus on the 6/49 lottery and build functions that can answer users the following questions:\n",
    "\n",
    "* What is the probability of winning the big prize with a single ticket?\n",
    "* What is the probability of winning the big prize if we play 40 different tickets (or any other number)?\n",
    "* What is the probability of having at least five (or four, or three) winning numbers on a single ticket?\n",
    "\n",
    "The scenario we're following throughout this project is fictional — the main purpose is to practice applying probability and combinatorics (permutations and combinations) concepts in a setting that simulates a real-world scenario.\n",
    "\n",
    "Core Functions\n",
    "Below, we're going to write two functions that we'll be using frequently:\n",
    "\n",
    "* factorial() — a function that calculates factorials\n",
    "* combinations() — a function that calculates combinations\n",
    "\n",
    "To calculate factorials, this is the formula we need to use:\n",
    "\n",
    "` n! = n * (n - 1) * (n - 2) * ... *3 * 2 * 1 `\n",
    "\n",
    "In the 6/49 lottery, six numbers are drawn from a set of 49 numbers that range from 1 to 49. The drawing is done without replacement, which means once a number is drawn, it's not put back in the set.\n",
    "\n",
    "To find the number of combinations when we're sampling without replacement and taking only k objects from a group of n objects, we can use the formula:\n",
    "\n",
    "`_nC_k = C(n,k) = n! / k!(n-k)! `"
   ]
  },
  {
   "cell_type": "markdown",
   "metadata": {},
   "source": [
    "1. Write a function named `factorial()` which takes as input a number `n` and computes the factorial of that number `n`. "
   ]
  },
  {
   "cell_type": "code",
   "execution_count": null,
   "metadata": {},
   "outputs": [],
   "source": [
    "#TODO"
   ]
  },
  {
   "cell_type": "markdown",
   "metadata": {},
   "source": [
    "2. Write a function named `combinations()` which takes in two inputs (`n` and `k`) and outputs the number of combinations when we're taking only `k` objects from a group of `n` objects. "
   ]
  },
  {
   "cell_type": "code",
   "execution_count": null,
   "metadata": {},
   "outputs": [],
   "source": [
    "#TODO"
   ]
  },
  {
   "cell_type": "markdown",
   "metadata": {},
   "source": [
    "In the 6/49 lottery, six numbers are drawn from a set of 49 numbers that range from 1 to 49. A player wins the big prize if the six numbers on their tickets match all the six numbers drawn. If a player has a ticket with the numbers {13, 22, 24, 27, 42, 44}, he only wins the big prize if the numbers drawn are {13, 22, 24, 27, 42, 44}. If only one number differs, he doesn't win.\n",
    "\n",
    "For the first version of the app, we want players to be able to calculate the probability of winning the big prize with the various numbers they play on a single ticket (for each ticket a player chooses six numbers out of 49). So, we'll start by building a function that calculates the probability of winning the big prize for any given ticket.\n",
    "\n",
    "We discussed with the engineering team of the medical institute, and they told us we need to be aware of the following details when we write the function:\n",
    "\n",
    "* Inside the app, the user inputs six different numbers from 1 to 49.\n",
    "* Under the hood, the six numbers will come as a Python list, which will serve as the single input to our function.\n",
    "* The engineering team wants the function to print the probability value in a friendly way — in a way that people without any probability training are able to understand.\n",
    "\n",
    "Let's try to write this function!\n",
    "\n"
   ]
  },
  {
   "cell_type": "markdown",
   "metadata": {},
   "source": [
    "1. Write a function named one_ticket_probability(), which takes in a list of six unique numbers and prints the probability of winning in a way that's easy to understand.\n",
    "\n",
    "     * Start by calculating the total number of possible outcomes — this is total number of combinations for a six-number lottery ticket. There are 49 possible numbers, and six numbers are sampled without replacement. Use the combinations() function you wrote in the previous cell.\n",
    "     * The user inputs just one combination, which means the number of successful outcomes is 1.\n",
    "     * Use the number of successful outcomes and the total number of possible outcomes to calculate the probability for one ticket.\n",
    "     * The function should print the probability in a way that's easy to understand. It's up to you what you choose, but here are a few suggestions:\n",
    "        * Print the probability as a percentage.\n",
    "        * Use the str.format() method to make the printed message more personalized with respect to what the user inputs.\n",
    "\n",
    "2. Test your function using a few inputs."
   ]
  },
  {
   "cell_type": "code",
   "execution_count": 1,
   "metadata": {},
   "outputs": [],
   "source": [
    "#TODO"
   ]
  },
  {
   "cell_type": "markdown",
   "metadata": {},
   "source": [
    "For the first version of the app, however, users should also be able to compare their ticket against the historical lottery data in Canada and determine whether they would have ever won by now.\n",
    "\n",
    "Here, we'll focus on exploring the historical data coming from the Canada 6/49 lottery. The data set can be downloaded from Kaggle[https://www.kaggle.com/datascienceai/lottery-dataset].\n",
    "\n",
    "* Open the `649.csv` file and save it as a pandas DataFrame."
   ]
  },
  {
   "cell_type": "code",
   "execution_count": null,
   "metadata": {},
   "outputs": [],
   "source": [
    "#TODO"
   ]
  },
  {
   "cell_type": "markdown",
   "metadata": {},
   "source": [
    "* Print the number of rows and columns of this data set."
   ]
  },
  {
   "cell_type": "code",
   "execution_count": null,
   "metadata": {},
   "outputs": [],
   "source": [
    "#TODO"
   ]
  },
  {
   "cell_type": "markdown",
   "metadata": {},
   "source": [
    "* Print the first and the last three rows and try to get familiar with the data set."
   ]
  },
  {
   "cell_type": "code",
   "execution_count": null,
   "metadata": {},
   "outputs": [],
   "source": [
    "#TODO"
   ]
  },
  {
   "cell_type": "markdown",
   "metadata": {},
   "source": [
    "Here, we're going to write a function that will enable users to compare their ticket against the historical lottery data in Canada and determine whether they would have ever won by now.\n",
    "\n",
    "The engineering team told us that we need to be aware of the following details:\n",
    "\n",
    "* Inside the app, the user inputs six different numbers from 1 to 49.\n",
    "* Under the hood, the six numbers will come as a Python list and serve as an input to our function.\n",
    "* The engineering team wants us to write a function that prints:\n",
    "    * the number of times the combination selected occurred in the Canada data set; and\n",
    "    * the probability of winning the big prize in the next drawing with that combination.\n",
    "    \n",
    "We'll now start working on writing this function. Note there's more than one way to solve this problem, so take the instructions below as suggestions.\n",
    "\n"
   ]
  },
  {
   "cell_type": "markdown",
   "metadata": {},
   "source": [
    "1. Extract all the winning six numbers from the historical data set as Python sets (set is a data type in Python).\n",
    "\n",
    "    * Write a function named `extract_numbers()` that takes as input a row of the lottery dataframe and returns a set containing all the six winning numbers. For the first row, for instance, the function should return the set `{3, 41, 11, 12, 43, 14}`.\n",
    "    * Use `extract_numbers()` in combination with the `DataFrame.apply()` method to extract all the winning numbers."
   ]
  },
  {
   "cell_type": "code",
   "execution_count": null,
   "metadata": {},
   "outputs": [],
   "source": [
    "#TODO"
   ]
  },
  {
   "cell_type": "code",
   "execution_count": null,
   "metadata": {},
   "outputs": [],
   "source": []
  }
 ],
 "metadata": {
  "kernelspec": {
   "display_name": "Python 3",
   "language": "python",
   "name": "python3"
  },
  "language_info": {
   "codemirror_mode": {
    "name": "ipython",
    "version": 3
   },
   "file_extension": ".py",
   "mimetype": "text/x-python",
   "name": "python",
   "nbconvert_exporter": "python",
   "pygments_lexer": "ipython3",
   "version": "3.6.8"
  }
 },
 "nbformat": 4,
 "nbformat_minor": 2
}
